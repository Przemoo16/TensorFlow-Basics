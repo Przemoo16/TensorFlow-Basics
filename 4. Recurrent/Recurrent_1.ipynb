{
 "cells": [
  {
   "cell_type": "markdown",
   "metadata": {},
   "source": [
    "# Recurrent neural network\n",
    "\n",
    "## MANUAL"
   ]
  },
  {
   "cell_type": "code",
   "execution_count": 2,
   "metadata": {},
   "outputs": [],
   "source": [
    "import numpy as np\n",
    "import tensorflow as tf\n",
    "import matplotlib.pyplot as plt\n",
    "%matplotlib inline"
   ]
  },
  {
   "cell_type": "code",
   "execution_count": 3,
   "metadata": {},
   "outputs": [],
   "source": [
    "# Parameters\n",
    "num_inputs = 2\n",
    "num_neurons = 3"
   ]
  },
  {
   "cell_type": "code",
   "execution_count": 4,
   "metadata": {},
   "outputs": [],
   "source": [
    "# Placeholders\n",
    "x0 = tf.placeholder(tf.float32, [None, num_inputs])\n",
    "x1 = tf.placeholder(tf.float32, [None, num_inputs])"
   ]
  },
  {
   "cell_type": "code",
   "execution_count": 5,
   "metadata": {},
   "outputs": [],
   "source": [
    "# Variables\n",
    "Wx = tf.Variable(tf.random_normal(shape=[num_inputs, num_neurons]))\n",
    "Wy = tf.Variable(tf.random_normal(shape=[num_neurons, num_neurons]))\n",
    "b = tf.Variable(tf.zeros([num_neurons]))"
   ]
  },
  {
   "cell_type": "code",
   "execution_count": 6,
   "metadata": {},
   "outputs": [],
   "source": [
    "# Create cells\n",
    "y0 = tf.tanh(tf.matmul(x0, Wx) + b)\n",
    "y1 = tf.tanh(tf.matmul(y0, Wy) + tf.matmul(x1, Wx)+ b)"
   ]
  },
  {
   "cell_type": "code",
   "execution_count": 8,
   "metadata": {},
   "outputs": [],
   "source": [
    "# Timestamp 0\n",
    "x0_batch = np.array([[0, 1], [2, 3], [4, 5]])\n",
    "\n",
    "# Timestamp 1\n",
    "x1_batch = np.array([[100, 101], [102, 103], [104, 105]])"
   ]
  },
  {
   "cell_type": "code",
   "execution_count": 18,
   "metadata": {},
   "outputs": [],
   "source": [
    "# Initializer\n",
    "init = tf.global_variables_initializer()\n",
    "\n",
    "# Create session\n",
    "with tf.Session() as sess:\n",
    "    \n",
    "    # Run initializer\n",
    "    sess.run(init)\n",
    "    \n",
    "    # Outputs\n",
    "    y0_output_vals, y1_output_vals = sess.run([y0, y1], feed_dict={x0:x0_batch, x1:x1_batch})"
   ]
  },
  {
   "cell_type": "code",
   "execution_count": 19,
   "metadata": {},
   "outputs": [
    {
     "data": {
      "text/plain": [
       "array([[-0.5782567 ,  0.5926085 , -0.15328732],\n",
       "       [-0.9973948 ,  0.95565695, -0.9979758 ],\n",
       "       [-0.99998724,  0.99598837, -0.9999972 ]], dtype=float32)"
      ]
     },
     "execution_count": 19,
     "metadata": {},
     "output_type": "execute_result"
    }
   ],
   "source": [
    "# First cell output\n",
    "y0_output_vals"
   ]
  },
  {
   "cell_type": "code",
   "execution_count": 20,
   "metadata": {},
   "outputs": [
    {
     "data": {
      "text/plain": [
       "array([[-1.,  1., -1.],\n",
       "       [-1.,  1., -1.],\n",
       "       [-1.,  1., -1.]], dtype=float32)"
      ]
     },
     "execution_count": 20,
     "metadata": {},
     "output_type": "execute_result"
    }
   ],
   "source": [
    "# Second cell output\n",
    "y1_output_vals"
   ]
  },
  {
   "cell_type": "markdown",
   "metadata": {},
   "source": [
    "## API\n",
    "### PREPARE DATA"
   ]
  },
  {
   "cell_type": "code",
   "execution_count": 21,
   "metadata": {
    "scrolled": true
   },
   "outputs": [
    {
     "data": {
      "text/plain": [
       "[<matplotlib.lines.Line2D at 0x7ffa04456f60>]"
      ]
     },
     "execution_count": 21,
     "metadata": {},
     "output_type": "execute_result"
    },
    {
     "data": {
      "image/png": "[encoded data removed]",
      "text/plain": [
       "<Figure size 432x288 with 1 Axes>"
      ]
     },
     "metadata": {
      "needs_background": "light"
     },
     "output_type": "display_data"
    }
   ],
   "source": [
    "# Create data\n",
    "class TimeSeriesData():\n",
    "    def __init__(self,num_points,xmin,xmax):\n",
    "        self.xmin = xmin\n",
    "        self.xmax = xmax\n",
    "        self.num_points = num_points\n",
    "        self.resolution = (xmax-xmin)/num_points\n",
    "        self.x_data = np.linspace(xmin,xmax,num_points)\n",
    "        self.y_true = np.sin(self.x_data)\n",
    "    \n",
    "    def ret_true(self,x_series):\n",
    "        return np.sin(x_series)\n",
    "    \n",
    "    def next_batch(\n",
    "        self,batch_size,steps,return_batch_ts=False):\n",
    "        # Grab a random starting point for each batch\n",
    "        rand_start = np.random.rand(batch_size,1) \n",
    "        # Convert to be on time series\n",
    "        ts_start = rand_start * (\n",
    "            self.xmax- self.xmin - (steps*self.resolution) )\n",
    "        # Create batch Time Series on t axis\n",
    "        batch_ts = ts_start + np.arange(0.0,steps+1) * self.resolution\n",
    "        # Create Y data for time series in the batches\n",
    "        y_batch = np.sin(batch_ts)\n",
    "        # Format for RNN\n",
    "        if return_batch_ts:\n",
    "            return y_batch[:, :-1].reshape(\n",
    "                -1, steps, 1), y_batch[:, 1:].reshape(-1, steps, 1) ,batch_ts\n",
    "        else:\n",
    "            return y_batch[:, :-1].reshape(\n",
    "                -1, steps, 1), y_batch[:, 1:].reshape(-1, steps, 1) \n",
    "        \n",
    "ts_data = TimeSeriesData(250,0,10)\n",
    "plt.plot(ts_data.x_data,ts_data.y_true)"
   ]
  },
  {
   "cell_type": "code",
   "execution_count": 22,
   "metadata": {},
   "outputs": [
    {
     "data": {
      "text/plain": [
       "[<matplotlib.lines.Line2D at 0x7ffa0436f208>]"
      ]
     },
     "execution_count": 22,
     "metadata": {},
     "output_type": "execute_result"
    },
    {
     "data": {
      "image/png": "[encoded data removed]",
      "text/plain": [
       "<Figure size 432x288 with 1 Axes>"
      ]
     },
     "metadata": {
      "needs_background": "light"
     },
     "output_type": "display_data"
    }
   ],
   "source": [
    "# Num of steps in batch (also used for prediction steps into the future)\n",
    "num_time_steps = 30\n",
    "y1,y2,ts = ts_data.next_batch(1,num_time_steps,True)\n",
    "plt.plot(ts.flatten()[1:],y2.flatten(),'*')"
   ]
  },
  {
   "cell_type": "code",
   "execution_count": 24,
   "metadata": {},
   "outputs": [
    {
     "data": {
      "image/png": "[encoded data removed]",
      "text/plain": [
       "<Figure size 432x288 with 1 Axes>"
      ]
     },
     "metadata": {
      "needs_background": "light"
     },
     "output_type": "display_data"
    }
   ],
   "source": [
    "# Plot selected part of sine wave\n",
    "plt.plot(ts_data.x_data,ts_data.y_true,label='Sin(t)')\n",
    "plt.plot(ts.flatten()[1:],y2.flatten(),'*',label='Single Training Instance')\n",
    "plt.legend()\n",
    "plt.tight_layout()"
   ]
  },
  {
   "cell_type": "code",
   "execution_count": 30,
   "metadata": {},
   "outputs": [],
   "source": [
    "# Train data\n",
    "train_inst = np.linspace(5,5 + ts_data.resolution * \n",
    "                         (num_time_steps + 1), num_time_steps+1)"
   ]
  },
  {
   "cell_type": "code",
   "execution_count": 31,
   "metadata": {},
   "outputs": [
    {
     "data": {
      "text/plain": [
       "<matplotlib.legend.Legend at 0x7ff8ad384048>"
      ]
     },
     "execution_count": 31,
     "metadata": {},
     "output_type": "execute_result"
    },
    {
     "data": {
      "image/png": "[encoded data removed]",
      "text/plain": [
       "<Figure size 432x288 with 1 Axes>"
      ]
     },
     "metadata": {
      "needs_background": "light"
     },
     "output_type": "display_data"
    }
   ],
   "source": [
    "# Plot train data\n",
    "plt.title(\"A training instance\", fontsize=14)\n",
    "plt.plot(train_inst[:-1], ts_data.ret_true(\n",
    "    train_inst[:-1]), \"bo\", markersize=15,alpha=0.5 ,label=\"instance\")\n",
    "plt.plot(train_inst[1:], ts_data.ret_true(\n",
    "    train_inst[1:]), \"ko\", markersize=7, label=\"target\")\n",
    "plt.legend()"
   ]
  },
  {
   "cell_type": "markdown",
   "metadata": {},
   "source": [
    "### CREATE THE MODEL"
   ]
  },
  {
   "cell_type": "code",
   "execution_count": 32,
   "metadata": {},
   "outputs": [],
   "source": [
    "# Reset graph\n",
    "tf.reset_default_graph()\n",
    "# One feature, the time series\n",
    "num_inputs = 1\n",
    "# 100 neuron layer\n",
    "num_neurons = 100\n",
    "# One output, predicted time series\n",
    "num_outputs = 1\n",
    "# Learning rate\n",
    "learning_rate = 0.0001\n",
    "# Number of iterations\n",
    "num_train_iterations = 2000\n",
    "# Size of the batch of data\n",
    "batch_size = 1"
   ]
  },
  {
   "cell_type": "code",
   "execution_count": 33,
   "metadata": {},
   "outputs": [],
   "source": [
    "# Placeholders\n",
    "X = tf.placeholder(tf.float32, [None, num_time_steps, num_inputs])\n",
    "y = tf.placeholder(tf.float32, [None, num_time_steps, num_outputs])"
   ]
  },
  {
   "cell_type": "code",
   "execution_count": 34,
   "metadata": {},
   "outputs": [
    {
     "data": {
      "text/plain": [
       "'\\ncell = tf.contrib.rnn.OutputProjectionWrapper(\\n     tf.contrib.rnn.BasicLSTMCell(num_units=num_neurons, activation=tf.nn.relu),\\n     output_size=num_outputs)    \\n\\nn_neurons = 100\\nn_layers = 3\\n\\ncell = tf.contrib.rnn.MultiRNNCell([tf.contrib.rnn.BasicRNNCell(num_units=n_neurons)\\n           for layer in range(n_layers)])\\n\\ncell = tf.contrib.rnn.BasicLSTMCell(num_units=num_neurons, activation=tf.nn.relu)\\n\\nn_neurons = 100\\nn_layers = 3\\n\\ncell = tf.contrib.rnn.MultiRNNCell([tf.contrib.rnn.BasicLSTMCell(num_units=n_neurons)\\n           for layer in range(n_layers)])\\n'"
      ]
     },
     "execution_count": 34,
     "metadata": {},
     "output_type": "execute_result"
    }
   ],
   "source": [
    "# Create cell\n",
    "\n",
    "cell = tf.contrib.rnn.OutputProjectionWrapper(\n",
    "    tf.contrib.rnn.BasicRNNCell(num_units=num_neurons, activation=tf.nn.relu),\n",
    "    output_size=num_outputs)\n",
    "\"\"\"\n",
    "cell = tf.contrib.rnn.OutputProjectionWrapper(\n",
    "     tf.contrib.rnn.BasicLSTMCell(num_units=num_neurons, activation=tf.nn.relu),\n",
    "     output_size=num_outputs)    \n",
    "\n",
    "n_neurons = 100\n",
    "n_layers = 3\n",
    "\n",
    "cell = tf.contrib.rnn.MultiRNNCell([tf.contrib.rnn.BasicRNNCell(num_units=n_neurons)\n",
    "           for layer in range(n_layers)])\n",
    "\n",
    "cell = tf.contrib.rnn.BasicLSTMCell(num_units=num_neurons, activation=tf.nn.relu)\n",
    "\n",
    "n_neurons = 100\n",
    "n_layers = 3\n",
    "\n",
    "cell = tf.contrib.rnn.MultiRNNCell([tf.contrib.rnn.BasicLSTMCell(num_units=n_neurons)\n",
    "           for layer in range(n_layers)])\n",
    "\"\"\""
   ]
  },
  {
   "cell_type": "code",
   "execution_count": 35,
   "metadata": {},
   "outputs": [],
   "source": [
    "# outputs and states from dynamic RNN\n",
    "outputs, states = tf.nn.dynamic_rnn(cell, X, dtype=tf.float32)"
   ]
  },
  {
   "cell_type": "code",
   "execution_count": 36,
   "metadata": {},
   "outputs": [],
   "source": [
    "# Loss function - MSE\n",
    "loss = tf.reduce_mean(tf.square(outputs - y))\n",
    "# Optimizer\n",
    "optimizer = tf.train.AdamOptimizer(learning_rate=learning_rate)\n",
    "# Minimize error\n",
    "train = optimizer.minimize(loss)"
   ]
  },
  {
   "cell_type": "code",
   "execution_count": 37,
   "metadata": {},
   "outputs": [],
   "source": [
    "# Initializer\n",
    "init = tf.global_variables_initializer()"
   ]
  },
  {
   "cell_type": "code",
   "execution_count": 53,
   "metadata": {
    "scrolled": true
   },
   "outputs": [
    {
     "name": "stdout",
     "output_type": "stream",
     "text": [
      "0 \tMSE: 0.74570614\n",
      "100 \tMSE: 0.066895\n",
      "200 \tMSE: 0.016179461\n",
      "300 \tMSE: 0.05694871\n",
      "400 \tMSE: 0.007552233\n",
      "500 \tMSE: 0.018611701\n",
      "600 \tMSE: 0.018257814\n",
      "700 \tMSE: 0.0014790014\n",
      "800 \tMSE: 0.02035727\n",
      "900 \tMSE: 0.0008128832\n",
      "1000 \tMSE: 0.011668811\n",
      "1100 \tMSE: 0.014494609\n",
      "1200 \tMSE: 0.00064487435\n",
      "1300 \tMSE: 0.015376726\n",
      "1400 \tMSE: 0.0016033489\n",
      "1500 \tMSE: 0.005845074\n",
      "1600 \tMSE: 0.0042747376\n",
      "1700 \tMSE: 0.0019315433\n",
      "1800 \tMSE: 0.009690363\n",
      "1900 \tMSE: 0.0010922294\n"
     ]
    }
   ],
   "source": [
    "# Create session\n",
    "sess = tf.Session()\n",
    "    \n",
    "# Run initializer\n",
    "sess.run(init)\n",
    "\n",
    "# Training loop\n",
    "for iteration in range(num_train_iterations):\n",
    "\n",
    "    # Grab next batch\n",
    "    X_batch, y_batch = ts_data.next_batch(batch_size, num_time_steps)\n",
    "\n",
    "    # Run training\n",
    "    sess.run(train, feed_dict={X: X_batch, y: y_batch})\n",
    "\n",
    "    # Display error every 100 steps\n",
    "    if iteration % 100 == 0:\n",
    "\n",
    "        # Grab mse error\n",
    "        mse = sess.run(loss, feed_dict={X: X_batch, y: y_batch})\n",
    "        # Print error\n",
    "        print(iteration, \"\\tMSE:\", mse)"
   ]
  },
  {
   "cell_type": "code",
   "execution_count": 54,
   "metadata": {},
   "outputs": [
    {
     "data": {
      "image/png": "[encoded data removed]",
      "text/plain": [
       "<Figure size 432x288 with 1 Axes>"
      ]
     },
     "metadata": {
      "needs_background": "light"
     },
     "output_type": "display_data"
    }
   ],
   "source": [
    "# New data\n",
    "X_new = np.sin(np.array(train_inst[:-1].reshape(-1, num_time_steps, num_inputs)))\n",
    "y_pred = sess.run(outputs, feed_dict={X: X_new})\n",
    "plt.title(\"Testing Model\")\n",
    "# Training Instance\n",
    "plt.plot(train_inst[:-1], np.sin(\n",
    "    train_inst[:-1]), \"bo\", markersize=15,alpha=0.5, label=\"Training Instance\")\n",
    "# Target to Predict\n",
    "plt.plot(train_inst[1:], np.sin(train_inst[1:]), \"ko\", markersize=10, label=\"target\")\n",
    "# Models Prediction\n",
    "plt.plot(train_inst[1:], y_pred[0,:,0], \"r.\", markersize=10, label=\"prediction\")\n",
    "plt.xlabel(\"Time\")\n",
    "plt.legend()\n",
    "plt.tight_layout()"
   ]
  },
  {
   "cell_type": "markdown",
   "metadata": {},
   "source": [
    "## GENERATE NEW DATA"
   ]
  },
  {
   "cell_type": "code",
   "execution_count": 55,
   "metadata": {},
   "outputs": [
    {
     "data": {
      "text/plain": [
       "Text(0, 0.5, 'Value')"
      ]
     },
     "execution_count": 55,
     "metadata": {},
     "output_type": "execute_result"
    },
    {
     "data": {
      "image/png": "[encoded data removed]",
      "text/plain": [
       "<Figure size 432x288 with 1 Axes>"
      ]
     },
     "metadata": {
      "needs_background": "light"
     },
     "output_type": "display_data"
    }
   ],
   "source": [
    "# SEED WITH ZEROS\n",
    "zero_seq_seed = [0. for i in range(num_time_steps)]\n",
    "for iteration in range(len(ts_data.x_data) - num_time_steps):\n",
    "    X_batch = np.array(\n",
    "        zero_seq_seed[-num_time_steps:]).reshape(1, num_time_steps, 1)\n",
    "    y_pred = sess.run(outputs, feed_dict={X: X_batch})\n",
    "    zero_seq_seed.append(y_pred[0, -1, 0])\n",
    "\n",
    "plt.plot(ts_data.x_data, zero_seq_seed, \"b-\")\n",
    "plt.plot(ts_data.x_data[:num_time_steps], \n",
    "         zero_seq_seed[:num_time_steps], \"r\", linewidth=3)\n",
    "plt.xlabel(\"Time\")\n",
    "plt.ylabel(\"Value\")"
   ]
  },
  {
   "cell_type": "code",
   "execution_count": 56,
   "metadata": {},
   "outputs": [
    {
     "data": {
      "text/plain": [
       "Text(0.5, 0, 'Time')"
      ]
     },
     "execution_count": 56,
     "metadata": {},
     "output_type": "execute_result"
    },
    {
     "data": {
      "image/png": "[encoded data removed]",
      "text/plain": [
       "<Figure size 432x288 with 1 Axes>"
      ]
     },
     "metadata": {
      "needs_background": "light"
     },
     "output_type": "display_data"
    }
   ],
   "source": [
    "# SEED WITH Training Instance\n",
    "training_instance = list(ts_data.y_true[:30])\n",
    "for iteration in range(len(ts_data.x_data) -num_time_steps):\n",
    "    X_batch = np.array(\n",
    "        training_instance[-num_time_steps:]).reshape(1, num_time_steps, 1)\n",
    "    y_pred = sess.run(outputs, feed_dict={X: X_batch})\n",
    "    training_instance.append(y_pred[0, -1, 0])\n",
    "        \n",
    "plt.plot(ts_data.x_data, training_instance, \"b-\")\n",
    "plt.plot(ts_data.x_data[:num_time_steps],\n",
    "         training_instance[:num_time_steps], \"r-\", linewidth=3)\n",
    "plt.xlabel(\"Time\")"
   ]
  },
  {
   "cell_type": "code",
   "execution_count": 58,
   "metadata": {},
   "outputs": [],
   "source": [
    "# Close session\n",
    "sess.close()"
   ]
  },
  {
   "cell_type": "code",
   "execution_count": null,
   "metadata": {},
   "outputs": [],
   "source": []
  }
 ],
 "metadata": {
  "kernelspec": {
   "display_name": "Python 3",
   "language": "python",
   "name": "python3"
  },
  "language_info": {
   "codemirror_mode": {
    "name": "ipython",
    "version": 3
   },
   "file_extension": ".py",
   "mimetype": "text/x-python",
   "name": "python",
   "nbconvert_exporter": "python",
   "pygments_lexer": "ipython3",
   "version": "3.6.7"
  }
 },
 "nbformat": 4,
 "nbformat_minor": 2
}
