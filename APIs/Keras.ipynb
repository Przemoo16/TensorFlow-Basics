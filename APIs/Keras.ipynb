{
 "cells": [
  {
   "cell_type": "markdown",
   "metadata": {},
   "source": [
    "# KERAS\n"
   ]
  },
  {
   "cell_type": "code",
   "execution_count": 1,
   "metadata": {},
   "outputs": [],
   "source": [
    "import tensorflow as tf\n",
    "from tensorflow.keras import models, layers, losses\n",
    "\n",
    "from sklearn.datasets import load_wine\n",
    "from sklearn.model_selection import train_test_split\n",
    "from sklearn.preprocessing import MinMaxScaler\n",
    "from sklearn.metrics import classification_report"
   ]
  },
  {
   "cell_type": "markdown",
   "metadata": {},
   "source": [
    "## PREPARE DATA"
   ]
  },
  {
   "cell_type": "markdown",
   "metadata": {},
   "source": [
    "### WINE DATASET\n",
    "\n",
    "https://archive.ics.uci.edu/ml/datasets/wine"
   ]
  },
  {
   "cell_type": "code",
   "execution_count": 2,
   "metadata": {},
   "outputs": [],
   "source": [
    "# Load data\n",
    "wine_data = load_wine()"
   ]
  },
  {
   "cell_type": "code",
   "execution_count": 3,
   "metadata": {},
   "outputs": [
    {
     "data": {
      "text/plain": [
       "dict_keys(['data', 'target', 'target_names', 'DESCR', 'feature_names'])"
      ]
     },
     "execution_count": 3,
     "metadata": {},
     "output_type": "execute_result"
    }
   ],
   "source": [
    "# Keys in dataset\n",
    "wine_data.keys()"
   ]
  },
  {
   "cell_type": "code",
   "execution_count": 4,
   "metadata": {},
   "outputs": [
    {
     "name": "stdout",
     "output_type": "stream",
     "text": [
      ".. _wine_dataset:\n",
      "\n",
      "Wine recognition dataset\n",
      "------------------------\n",
      "\n",
      "**Data Set Characteristics:**\n",
      "\n",
      "    :Number of Instances: 178 (50 in each of three classes)\n",
      "    :Number of Attributes: 13 numeric, predictive attributes and the class\n",
      "    :Attribute Information:\n",
      " \t\t- Alcohol\n",
      " \t\t- Malic acid\n",
      " \t\t- Ash\n",
      "\t\t- Alcalinity of ash  \n",
      " \t\t- Magnesium\n",
      "\t\t- Total phenols\n",
      " \t\t- Flavanoids\n",
      " \t\t- Nonflavanoid phenols\n",
      " \t\t- Proanthocyanins\n",
      "\t\t- Color intensity\n",
      " \t\t- Hue\n",
      " \t\t- OD280/OD315 of diluted wines\n",
      " \t\t- Proline\n",
      "\n",
      "    - class:\n",
      "            - class_0\n",
      "            - class_1\n",
      "            - class_2\n",
      "\t\t\n",
      "    :Summary Statistics:\n",
      "    \n",
      "    ============================= ==== ===== ======= =====\n",
      "                                   Min   Max   Mean     SD\n",
      "    ============================= ==== ===== ======= =====\n",
      "    Alcohol:                      11.0  14.8    13.0   0.8\n",
      "    Malic Acid:                   0.74  5.80    2.34  1.12\n",
      "    Ash:                          1.36  3.23    2.36  0.27\n",
      "    Alcalinity of Ash:            10.6  30.0    19.5   3.3\n",
      "    Magnesium:                    70.0 162.0    99.7  14.3\n",
      "    Total Phenols:                0.98  3.88    2.29  0.63\n",
      "    Flavanoids:                   0.34  5.08    2.03  1.00\n",
      "    Nonflavanoid Phenols:         0.13  0.66    0.36  0.12\n",
      "    Proanthocyanins:              0.41  3.58    1.59  0.57\n",
      "    Colour Intensity:              1.3  13.0     5.1   2.3\n",
      "    Hue:                          0.48  1.71    0.96  0.23\n",
      "    OD280/OD315 of diluted wines: 1.27  4.00    2.61  0.71\n",
      "    Proline:                       278  1680     746   315\n",
      "    ============================= ==== ===== ======= =====\n",
      "\n",
      "    :Missing Attribute Values: None\n",
      "    :Class Distribution: class_0 (59), class_1 (71), class_2 (48)\n",
      "    :Creator: R.A. Fisher\n",
      "    :Donor: Michael Marshall (MARSHALL%PLU@io.arc.nasa.gov)\n",
      "    :Date: July, 1988\n",
      "\n",
      "This is a copy of UCI ML Wine recognition datasets.\n",
      "https://archive.ics.uci.edu/ml/machine-learning-databases/wine/wine.data\n",
      "\n",
      "The data is the results of a chemical analysis of wines grown in the same\n",
      "region in Italy by three different cultivators. There are thirteen different\n",
      "measurements taken for different constituents found in the three types of\n",
      "wine.\n",
      "\n",
      "Original Owners: \n",
      "\n",
      "Forina, M. et al, PARVUS - \n",
      "An Extendible Package for Data Exploration, Classification and Correlation. \n",
      "Institute of Pharmaceutical and Food Analysis and Technologies,\n",
      "Via Brigata Salerno, 16147 Genoa, Italy.\n",
      "\n",
      "Citation:\n",
      "\n",
      "Lichman, M. (2013). UCI Machine Learning Repository\n",
      "[http://archive.ics.uci.edu/ml]. Irvine, CA: University of California,\n",
      "School of Information and Computer Science. \n",
      "\n",
      ".. topic:: References\n",
      "\n",
      "  (1) S. Aeberhard, D. Coomans and O. de Vel, \n",
      "  Comparison of Classifiers in High Dimensional Settings, \n",
      "  Tech. Rep. no. 92-02, (1992), Dept. of Computer Science and Dept. of  \n",
      "  Mathematics and Statistics, James Cook University of North Queensland. \n",
      "  (Also submitted to Technometrics). \n",
      "\n",
      "  The data was used with many others for comparing various \n",
      "  classifiers. The classes are separable, though only RDA \n",
      "  has achieved 100% correct classification. \n",
      "  (RDA : 100%, QDA 99.4%, LDA 98.9%, 1NN 96.1% (z-transformed data)) \n",
      "  (All results using the leave-one-out technique) \n",
      "\n",
      "  (2) S. Aeberhard, D. Coomans and O. de Vel, \n",
      "  \"THE CLASSIFICATION PERFORMANCE OF RDA\" \n",
      "  Tech. Rep. no. 92-01, (1992), Dept. of Computer Science and Dept. of \n",
      "  Mathematics and Statistics, James Cook University of North Queensland. \n",
      "  (Also submitted to Journal of Chemometrics).\n",
      "\n"
     ]
    }
   ],
   "source": [
    "# Dataset info\n",
    "print(wine_data.DESCR)"
   ]
  },
  {
   "cell_type": "code",
   "execution_count": 5,
   "metadata": {},
   "outputs": [],
   "source": [
    "# Grab features\n",
    "feat_data = wine_data['data']"
   ]
  },
  {
   "cell_type": "code",
   "execution_count": 6,
   "metadata": {},
   "outputs": [],
   "source": [
    "# Grab labels\n",
    "labels = wine_data['target']"
   ]
  },
  {
   "cell_type": "code",
   "execution_count": 7,
   "metadata": {},
   "outputs": [],
   "source": [
    "# Split data for training and testing\n",
    "X_train, X_test, y_train, y_test = train_test_split(feat_data,\n",
    "                                                    labels,\n",
    "                                                    test_size=0.3,\n",
    "                                                   random_state=101)"
   ]
  },
  {
   "cell_type": "markdown",
   "metadata": {},
   "source": [
    "### Scale the Data"
   ]
  },
  {
   "cell_type": "code",
   "execution_count": 8,
   "metadata": {},
   "outputs": [],
   "source": [
    "# Transforms features by scaling each feature to a given range.\n",
    "scaler = MinMaxScaler()"
   ]
  },
  {
   "cell_type": "code",
   "execution_count": 9,
   "metadata": {},
   "outputs": [],
   "source": [
    "# Scaled train data\n",
    "scaled_x_train = scaler.fit_transform(X_train)"
   ]
  },
  {
   "cell_type": "code",
   "execution_count": 10,
   "metadata": {},
   "outputs": [],
   "source": [
    "# Scaled test data\n",
    "scaled_x_test = scaler.transform(X_test)"
   ]
  },
  {
   "cell_type": "markdown",
   "metadata": {},
   "source": [
    "## CREATE MODEL"
   ]
  },
  {
   "cell_type": "code",
   "execution_count": 11,
   "metadata": {},
   "outputs": [],
   "source": [
    "# Create model\n",
    "dnn_keras_model = models.Sequential()"
   ]
  },
  {
   "cell_type": "code",
   "execution_count": 12,
   "metadata": {},
   "outputs": [],
   "source": [
    "# Add layers\n",
    "dnn_keras_model.add(layers.Dense(units=13,input_dim=13,activation='relu'))\n",
    "dnn_keras_model.add(layers.Dense(units=13,activation='relu'))\n",
    "dnn_keras_model.add(layers.Dense(units=13,activation='relu'))\n",
    "dnn_keras_model.add(layers.Dense(units=3,activation='softmax'))"
   ]
  },
  {
   "cell_type": "code",
   "execution_count": 13,
   "metadata": {},
   "outputs": [],
   "source": [
    "# Compile model\n",
    "dnn_keras_model.compile(optimizer='adam',\n",
    "              loss='sparse_categorical_crossentropy',\n",
    "              metrics=['accuracy'])"
   ]
  },
  {
   "cell_type": "code",
   "execution_count": 14,
   "metadata": {
    "scrolled": true
   },
   "outputs": [
    {
     "name": "stdout",
     "output_type": "stream",
     "text": [
      "Epoch 1/50\n",
      "124/124 [==============================] - 1s 11ms/step - loss: 1.1026 - acc: 0.2903\n",
      "Epoch 2/50\n",
      "124/124 [==============================] - 0s 187us/step - loss: 1.0965 - acc: 0.2903\n",
      "Epoch 3/50\n",
      "124/124 [==============================] - 0s 233us/step - loss: 1.0913 - acc: 0.3226\n",
      "Epoch 4/50\n",
      "124/124 [==============================] - 0s 221us/step - loss: 1.0858 - acc: 0.4032\n",
      "Epoch 5/50\n",
      "124/124 [==============================] - 0s 196us/step - loss: 1.0809 - acc: 0.4919\n",
      "Epoch 6/50\n",
      "124/124 [==============================] - 0s 227us/step - loss: 1.0759 - acc: 0.6048\n",
      "Epoch 7/50\n",
      "124/124 [==============================] - 0s 214us/step - loss: 1.0704 - acc: 0.6452\n",
      "Epoch 8/50\n",
      "124/124 [==============================] - 0s 217us/step - loss: 1.0647 - acc: 0.6290\n",
      "Epoch 9/50\n",
      "124/124 [==============================] - 0s 190us/step - loss: 1.0584 - acc: 0.6371\n",
      "Epoch 10/50\n",
      "124/124 [==============================] - 0s 214us/step - loss: 1.0515 - acc: 0.6290\n",
      "Epoch 11/50\n",
      "124/124 [==============================] - 0s 151us/step - loss: 1.0436 - acc: 0.6371\n",
      "Epoch 12/50\n",
      "124/124 [==============================] - 0s 169us/step - loss: 1.0347 - acc: 0.6129\n",
      "Epoch 13/50\n",
      "124/124 [==============================] - 0s 160us/step - loss: 1.0247 - acc: 0.6048\n",
      "Epoch 14/50\n",
      "124/124 [==============================] - 0s 184us/step - loss: 1.0139 - acc: 0.6048\n",
      "Epoch 15/50\n",
      "124/124 [==============================] - 0s 177us/step - loss: 1.0024 - acc: 0.5968\n",
      "Epoch 16/50\n",
      "124/124 [==============================] - 0s 179us/step - loss: 0.9895 - acc: 0.6048\n",
      "Epoch 17/50\n",
      "124/124 [==============================] - 0s 190us/step - loss: 0.9753 - acc: 0.6048\n",
      "Epoch 18/50\n",
      "124/124 [==============================] - 0s 186us/step - loss: 0.9608 - acc: 0.6371\n",
      "Epoch 19/50\n",
      "124/124 [==============================] - 0s 194us/step - loss: 0.9447 - acc: 0.6371\n",
      "Epoch 20/50\n",
      "124/124 [==============================] - 0s 213us/step - loss: 0.9274 - acc: 0.6371\n",
      "Epoch 21/50\n",
      "124/124 [==============================] - 0s 214us/step - loss: 0.9077 - acc: 0.6371\n",
      "Epoch 22/50\n",
      "124/124 [==============================] - 0s 169us/step - loss: 0.8858 - acc: 0.6452\n",
      "Epoch 23/50\n",
      "124/124 [==============================] - 0s 192us/step - loss: 0.8634 - acc: 0.6613\n",
      "Epoch 24/50\n",
      "124/124 [==============================] - 0s 171us/step - loss: 0.8402 - acc: 0.6613\n",
      "Epoch 25/50\n",
      "124/124 [==============================] - 0s 214us/step - loss: 0.8162 - acc: 0.6613\n",
      "Epoch 26/50\n",
      "124/124 [==============================] - 0s 206us/step - loss: 0.7909 - acc: 0.6613\n",
      "Epoch 27/50\n",
      "124/124 [==============================] - 0s 223us/step - loss: 0.7654 - acc: 0.6694\n",
      "Epoch 28/50\n",
      "124/124 [==============================] - 0s 187us/step - loss: 0.7397 - acc: 0.6694\n",
      "Epoch 29/50\n",
      "124/124 [==============================] - 0s 212us/step - loss: 0.7153 - acc: 0.6774\n",
      "Epoch 30/50\n",
      "124/124 [==============================] - 0s 207us/step - loss: 0.6901 - acc: 0.7097\n",
      "Epoch 31/50\n",
      "124/124 [==============================] - 0s 206us/step - loss: 0.6655 - acc: 0.7339\n",
      "Epoch 32/50\n",
      "124/124 [==============================] - 0s 189us/step - loss: 0.6408 - acc: 0.7984\n",
      "Epoch 33/50\n",
      "124/124 [==============================] - 0s 195us/step - loss: 0.6192 - acc: 0.8226\n",
      "Epoch 34/50\n",
      "124/124 [==============================] - 0s 208us/step - loss: 0.5977 - acc: 0.8306\n",
      "Epoch 35/50\n",
      "124/124 [==============================] - 0s 208us/step - loss: 0.5767 - acc: 0.8548\n",
      "Epoch 36/50\n",
      "124/124 [==============================] - 0s 212us/step - loss: 0.5578 - acc: 0.8629\n",
      "Epoch 37/50\n",
      "124/124 [==============================] - 0s 199us/step - loss: 0.5402 - acc: 0.8710\n",
      "Epoch 38/50\n",
      "124/124 [==============================] - 0s 203us/step - loss: 0.5242 - acc: 0.8710\n",
      "Epoch 39/50\n",
      "124/124 [==============================] - 0s 210us/step - loss: 0.5098 - acc: 0.8629\n",
      "Epoch 40/50\n",
      "124/124 [==============================] - 0s 244us/step - loss: 0.4959 - acc: 0.8790\n",
      "Epoch 41/50\n",
      "124/124 [==============================] - 0s 194us/step - loss: 0.4818 - acc: 0.9032\n",
      "Epoch 42/50\n",
      "124/124 [==============================] - 0s 181us/step - loss: 0.4688 - acc: 0.9032\n",
      "Epoch 43/50\n",
      "124/124 [==============================] - 0s 201us/step - loss: 0.4571 - acc: 0.9032\n",
      "Epoch 44/50\n",
      "124/124 [==============================] - 0s 214us/step - loss: 0.4442 - acc: 0.9032\n",
      "Epoch 45/50\n",
      "124/124 [==============================] - 0s 200us/step - loss: 0.4327 - acc: 0.9032\n",
      "Epoch 46/50\n",
      "124/124 [==============================] - 0s 236us/step - loss: 0.4194 - acc: 0.9113\n",
      "Epoch 47/50\n",
      "124/124 [==============================] - 0s 203us/step - loss: 0.4065 - acc: 0.9032\n",
      "Epoch 48/50\n",
      "124/124 [==============================] - 0s 183us/step - loss: 0.3934 - acc: 0.9032\n",
      "Epoch 49/50\n",
      "124/124 [==============================] - 0s 187us/step - loss: 0.3798 - acc: 0.9194\n",
      "Epoch 50/50\n",
      "124/124 [==============================] - 0s 219us/step - loss: 0.3643 - acc: 0.9274\n"
     ]
    },
    {
     "data": {
      "text/plain": [
       "<tensorflow.python.keras.callbacks.History at 0x7f3229e80320>"
      ]
     },
     "execution_count": 14,
     "metadata": {},
     "output_type": "execute_result"
    }
   ],
   "source": [
    "# Train model on data\n",
    "dnn_keras_model.fit(scaled_x_train,y_train,epochs=50)"
   ]
  },
  {
   "cell_type": "code",
   "execution_count": 15,
   "metadata": {},
   "outputs": [],
   "source": [
    "# Predictions\n",
    "predictions = dnn_keras_model.predict_classes(scaled_x_test)"
   ]
  },
  {
   "cell_type": "code",
   "execution_count": 16,
   "metadata": {},
   "outputs": [
    {
     "name": "stdout",
     "output_type": "stream",
     "text": [
      "              precision    recall  f1-score   support\n",
      "\n",
      "           0       0.74      0.82      0.78        17\n",
      "           1       0.77      0.77      0.77        22\n",
      "           2       1.00      0.87      0.93        15\n",
      "\n",
      "   micro avg       0.81      0.81      0.81        54\n",
      "   macro avg       0.84      0.82      0.83        54\n",
      "weighted avg       0.82      0.81      0.82        54\n",
      "\n"
     ]
    }
   ],
   "source": [
    "# Show metrics for test dataset\n",
    "print(classification_report(predictions,y_test))"
   ]
  },
  {
   "cell_type": "code",
   "execution_count": null,
   "metadata": {},
   "outputs": [],
   "source": []
  }
 ],
 "metadata": {
  "kernelspec": {
   "display_name": "Python 3",
   "language": "python",
   "name": "python3"
  },
  "language_info": {
   "codemirror_mode": {
    "name": "ipython",
    "version": 3
   },
   "file_extension": ".py",
   "mimetype": "text/x-python",
   "name": "python",
   "nbconvert_exporter": "python",
   "pygments_lexer": "ipython3",
   "version": "3.6.7"
  }
 },
 "nbformat": 4,
 "nbformat_minor": 2
}
